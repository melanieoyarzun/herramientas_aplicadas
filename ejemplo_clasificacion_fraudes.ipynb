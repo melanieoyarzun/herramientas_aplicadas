{
 "cells": [
  {
   "cell_type": "markdown",
   "id": "584243e3",
   "metadata": {},
   "source": [
    "# Herramienta aplicada unidad 4\n",
    "## Ejemplo de clasificación de fraudes"
   ]
  },
  {
   "cell_type": "markdown",
   "id": "7e517f89",
   "metadata": {},
   "source": [
    "\n",
    "Una aplicación común de Machine Learning es la detección de fraudes en transacciones financieras. \n",
    "En este notebook, se presenta un ejemplo de cómo implementar una detección de fraudes utilizando algoritmos de Machine Learning en Python.\n",
    "\n",
    "En esta oportunidad, usaremos el lenguaje Python y algunas de sus librerías más utilizadas. La idea es que conozcas \n",
    "cómo se implementan estos modelos, aunque en este caso se usarán datos ficticios y simulados que no representan \n",
    "la complejidad de un análisis real en esta área.\n",
    "    "
   ]
  },
  {
   "cell_type": "markdown",
   "id": "893208a6",
   "metadata": {},
   "source": [
    "## Datos\n",
    "\n",
    "Supongamos que tenemos un conjunto de datos con información sobre transacciones bancarias. Cada observación represnta una transacción y las variables incluidas son:\n",
    "- Monto de la transacción (en dólares)\n",
    "- Hora de la transacción (en formato de 24 hrs)\n",
    "- Tipo de transaccion (retiro, depósito, transferencia)\n",
    "- Ubicación de la transacción (local, nacional, internacional)\n",
    "- Tarjeta de crédito utilizada (número de tarjeta)\n",
    "\n",
    "Para simular los datos, podemos generar un conjunto de observaciones aleatorias con distribuciones específicas para cada variable. En este caso, asumiremos que hay un 5% de transacciones fraudulentas en el conjunto de datos.\n",
    "\n",
    "En este ejemplo, crearé un conjunto de datos de transacciones financieras con 10,000 transacciones. Estableceré una proporción del % de transacciones fraudulentas, lo que significa que habrá 500 transacciones fraudulentas en el conjunto de datos. Además, crearé algunas características que podrían ser útiles para identificar transacciones fraudulentas, como un monto alto, una ubicación inusual, un\n",
    "horario inusual y un tipo de transacción inusual."
   ]
  },
  {
   "cell_type": "markdown",
   "id": "431d4ec1",
   "metadata": {},
   "source": [
    "::: {.callout-caution}\n",
    "Notar que usaremos varios paquetes/librerías en este notebook. Si estás trabajando en tu propia computadora y no tienes instaladas las librerías, instálalas utilizando ya sea `pip install` o `conda install`.\n",
    "\n",
    "Copia y pega el siguiente código en una celda y ejecútalo:\n",
    "\n",
    "Si usas pip:\n",
    "```python\n",
    "!pip install numpy pandas scikit-learn matplotlib\n",
    "```\n",
    "\n",
    "Si usas conda:\n",
    "```python\n",
    "!conda install -c anaconda numpy pandas scikit-learn matplotlib -y\n",
    "```\n",
    "\n",
    "Esto instalará las librerías necesarias para ejecutar el notebook sin problemas. :::\n",
    ":::"
   ]
  },
  {
   "cell_type": "code",
   "execution_count": 1,
   "id": "731e339b",
   "metadata": {},
   "outputs": [],
   "source": [
    "\n",
    "# Importar librerías necesarias\n",
    "import numpy as np\n",
    "import pandas as pd\n",
    "\n",
    "# Fijar una semilla para la reproducibilidad\n",
    "np.random.seed(42)\n",
    "\n",
    "# Número de transacciones\n",
    "n_transacciones = 10000\n",
    "\n",
    "# Crear un conjunto de datos con transacciones normales\n",
    "datos_normales = pd.DataFrame({\n",
    "    'monto': np.random.normal(loc=50, scale=10, size=n_transacciones),\n",
    "    'ubicacion': np.random.choice(['EEUU', 'México', 'Canadá'], size=n_transacciones),\n",
    "    'horario': np.random.choice(['día', 'noche'], size=n_transacciones),\n",
    "    'tipo': np.random.choice(['compra', 'retiro'], size=n_transacciones),\n",
    "    'clase': np.zeros(n_transacciones)\n",
    "})\n",
    "\n",
    "# Crear un conjunto de datos con transacciones fraudulentas\n",
    "datos_fraudulentos = pd.DataFrame({\n",
    "    'monto': np.random.normal(loc=100, scale=20, size=int(n_transacciones * 0.05)),\n",
    "    'ubicacion': np.random.choice(['Nigeria', 'Rusia', 'China'], size=int(n_transacciones * 0.05)),\n",
    "    'horario': np.random.choice(['día', 'noche'], size=int(n_transacciones * 0.05)),\n",
    "    'tipo': np.random.choice(['compra', 'retiro'], size=int(n_transacciones * 0.05)),\n",
    "    'clase': np.ones(int(n_transacciones * 0.05))\n",
    "})\n",
    "\n",
    "# Combinar los conjuntos de datos y mezclar\n",
    "datos = pd.concat([datos_normales, datos_fraudulentos]).sample(frac=1, random_state=42).reset_index(drop=True)\n",
    "    "
   ]
  },
  {
   "cell_type": "markdown",
   "id": "e52ac7bc",
   "metadata": {},
   "source": [
    "AL igual que en R, podemos usare la función `head()` para ver las primeras entradas de nuestros datos. Notar como la sitaxis es diferente entre lenguajes de programación, pero los conceptos son los mismos o muy similares."
   ]
  },
  {
   "cell_type": "code",
   "execution_count": 2,
   "id": "52407ce2",
   "metadata": {},
   "outputs": [
    {
     "data": {
      "text/html": [
       "<div>\n",
       "<style scoped>\n",
       "    .dataframe tbody tr th:only-of-type {\n",
       "        vertical-align: middle;\n",
       "    }\n",
       "\n",
       "    .dataframe tbody tr th {\n",
       "        vertical-align: top;\n",
       "    }\n",
       "\n",
       "    .dataframe thead th {\n",
       "        text-align: right;\n",
       "    }\n",
       "</style>\n",
       "<table border=\"1\" class=\"dataframe\">\n",
       "  <thead>\n",
       "    <tr style=\"text-align: right;\">\n",
       "      <th></th>\n",
       "      <th>monto</th>\n",
       "      <th>ubicacion</th>\n",
       "      <th>horario</th>\n",
       "      <th>tipo</th>\n",
       "      <th>clase</th>\n",
       "    </tr>\n",
       "  </thead>\n",
       "  <tbody>\n",
       "    <tr>\n",
       "      <th>0</th>\n",
       "      <td>34.175720</td>\n",
       "      <td>México</td>\n",
       "      <td>día</td>\n",
       "      <td>retiro</td>\n",
       "      <td>0.0</td>\n",
       "    </tr>\n",
       "    <tr>\n",
       "      <th>1</th>\n",
       "      <td>51.767621</td>\n",
       "      <td>México</td>\n",
       "      <td>noche</td>\n",
       "      <td>compra</td>\n",
       "      <td>0.0</td>\n",
       "    </tr>\n",
       "    <tr>\n",
       "      <th>2</th>\n",
       "      <td>52.317309</td>\n",
       "      <td>México</td>\n",
       "      <td>noche</td>\n",
       "      <td>retiro</td>\n",
       "      <td>0.0</td>\n",
       "    </tr>\n",
       "    <tr>\n",
       "      <th>3</th>\n",
       "      <td>69.669170</td>\n",
       "      <td>México</td>\n",
       "      <td>noche</td>\n",
       "      <td>retiro</td>\n",
       "      <td>0.0</td>\n",
       "    </tr>\n",
       "    <tr>\n",
       "      <th>4</th>\n",
       "      <td>42.681427</td>\n",
       "      <td>EEUU</td>\n",
       "      <td>noche</td>\n",
       "      <td>compra</td>\n",
       "      <td>0.0</td>\n",
       "    </tr>\n",
       "  </tbody>\n",
       "</table>\n",
       "</div>"
      ],
      "text/plain": [
       "       monto ubicacion horario    tipo  clase\n",
       "0  34.175720    México     día  retiro    0.0\n",
       "1  51.767621    México   noche  compra    0.0\n",
       "2  52.317309    México   noche  retiro    0.0\n",
       "3  69.669170    México   noche  retiro    0.0\n",
       "4  42.681427      EEUU   noche  compra    0.0"
      ]
     },
     "execution_count": 2,
     "metadata": {},
     "output_type": "execute_result"
    }
   ],
   "source": [
    "# Visualizar las primeras filas de los datos\n",
    "datos.head()"
   ]
  },
  {
   "cell_type": "code",
   "execution_count": 3,
   "id": "fa525386",
   "metadata": {},
   "outputs": [
    {
     "data": {
      "text/html": [
       "<div>\n",
       "<style scoped>\n",
       "    .dataframe tbody tr th:only-of-type {\n",
       "        vertical-align: middle;\n",
       "    }\n",
       "\n",
       "    .dataframe tbody tr th {\n",
       "        vertical-align: top;\n",
       "    }\n",
       "\n",
       "    .dataframe thead th {\n",
       "        text-align: right;\n",
       "    }\n",
       "</style>\n",
       "<table border=\"1\" class=\"dataframe\">\n",
       "  <thead>\n",
       "    <tr style=\"text-align: right;\">\n",
       "      <th></th>\n",
       "      <th>monto</th>\n",
       "      <th>ubicacion</th>\n",
       "      <th>horario</th>\n",
       "      <th>tipo</th>\n",
       "      <th>clase</th>\n",
       "    </tr>\n",
       "  </thead>\n",
       "  <tbody>\n",
       "    <tr>\n",
       "      <th>10495</th>\n",
       "      <td>44.259174</td>\n",
       "      <td>México</td>\n",
       "      <td>día</td>\n",
       "      <td>compra</td>\n",
       "      <td>0.0</td>\n",
       "    </tr>\n",
       "    <tr>\n",
       "      <th>10496</th>\n",
       "      <td>49.587073</td>\n",
       "      <td>EEUU</td>\n",
       "      <td>día</td>\n",
       "      <td>compra</td>\n",
       "      <td>0.0</td>\n",
       "    </tr>\n",
       "    <tr>\n",
       "      <th>10497</th>\n",
       "      <td>43.005855</td>\n",
       "      <td>Canadá</td>\n",
       "      <td>noche</td>\n",
       "      <td>compra</td>\n",
       "      <td>0.0</td>\n",
       "    </tr>\n",
       "    <tr>\n",
       "      <th>10498</th>\n",
       "      <td>52.029230</td>\n",
       "      <td>México</td>\n",
       "      <td>día</td>\n",
       "      <td>compra</td>\n",
       "      <td>0.0</td>\n",
       "    </tr>\n",
       "    <tr>\n",
       "      <th>10499</th>\n",
       "      <td>32.823279</td>\n",
       "      <td>México</td>\n",
       "      <td>día</td>\n",
       "      <td>compra</td>\n",
       "      <td>0.0</td>\n",
       "    </tr>\n",
       "  </tbody>\n",
       "</table>\n",
       "</div>"
      ],
      "text/plain": [
       "           monto ubicacion horario    tipo  clase\n",
       "10495  44.259174    México     día  compra    0.0\n",
       "10496  49.587073      EEUU     día  compra    0.0\n",
       "10497  43.005855    Canadá   noche  compra    0.0\n",
       "10498  52.029230    México     día  compra    0.0\n",
       "10499  32.823279    México     día  compra    0.0"
      ]
     },
     "execution_count": 3,
     "metadata": {},
     "output_type": "execute_result"
    }
   ],
   "source": [
    "# Visualizar las ultimas seis filas de los datos\n",
    "datos.tail()"
   ]
  },
  {
   "cell_type": "markdown",
   "id": "c5d1f143",
   "metadata": {},
   "source": [
    "\n",
    "### Explicación de técnicas de modelado para la detección de fraude\n",
    "\n",
    "Con estos datos simulados, podemos aplicar diferentes técnicas de modelado para detectar patrones en las transacciones \n",
    "que puedan indicar la presencia de fraude.\n",
    "\n",
    "Existen varias técnicas de modelado que se pueden aplicar para detectar patrones de fraude en transacciones, algunas \n",
    "de las más comunes son:\n",
    "\n",
    "1. **Regresión logística**: Un modelo de regresión logística que predice la probabilidad de que una transacción sea \n",
    "fraudulenta o no, basado en una serie de variables explicativas.\n",
    "\n",
    "2. **Árboles de decisión**: Dividen los datos en diferentes subgrupos con características similares, ayudando a \n",
    "identificar patrones de fraude y clasificar transacciones.\n",
    "\n",
    "3. **Redes neuronales**: Modelos basados en el funcionamiento del cerebro humano que identifican patrones complejos \n",
    "en grandes conjuntos de datos.\n",
    "\n",
    "4. **Análisis de anomalías**: Detecta patrones inusuales o anómalos en los datos, útil para identificar transacciones sospechosas.\n",
    "\n",
    "5. **Clustering**: Agrupa transacciones con características similares, ayudando a detectar patrones de fraude en esos \n",
    "grupos.\n",
    "\n",
    "Para este ejemplo, utilizaremos las técnicas 1, 2 y 5 de manera sintética.\n",
    "    "
   ]
  },
  {
   "cell_type": "markdown",
   "id": "018bf10f",
   "metadata": {},
   "source": [
    "### Preparación de los datos"
   ]
  },
  {
   "cell_type": "markdown",
   "id": "bbf16058",
   "metadata": {},
   "source": [
    "Una vez se tienen los datos, es improtante hacer una exploración de estos y pre-procesarlos antes de entrenar el modelo.\n",
    "\n",
    "En nuestro caso, quisieramos trabajar con montos normalizados de dinero y transformar las variables que son categoricas a dictómicas (o también llamas dummies o Bernoulli) ya que los modelos no los implementan directamente y tambien, facilita la interpretación."
   ]
  },
  {
   "cell_type": "code",
   "execution_count": 4,
   "id": "f74cd047",
   "metadata": {},
   "outputs": [
    {
     "data": {
      "text/html": [
       "<div>\n",
       "<style scoped>\n",
       "    .dataframe tbody tr th:only-of-type {\n",
       "        vertical-align: middle;\n",
       "    }\n",
       "\n",
       "    .dataframe tbody tr th {\n",
       "        vertical-align: top;\n",
       "    }\n",
       "\n",
       "    .dataframe thead th {\n",
       "        text-align: right;\n",
       "    }\n",
       "</style>\n",
       "<table border=\"1\" class=\"dataframe\">\n",
       "  <thead>\n",
       "    <tr style=\"text-align: right;\">\n",
       "      <th></th>\n",
       "      <th>monto</th>\n",
       "      <th>clase</th>\n",
       "      <th>ubicacion_Canadá</th>\n",
       "      <th>ubicacion_China</th>\n",
       "      <th>ubicacion_EEUU</th>\n",
       "      <th>ubicacion_México</th>\n",
       "      <th>ubicacion_Nigeria</th>\n",
       "      <th>ubicacion_Rusia</th>\n",
       "      <th>horario_día</th>\n",
       "      <th>horario_noche</th>\n",
       "      <th>tipo_compra</th>\n",
       "      <th>tipo_retiro</th>\n",
       "    </tr>\n",
       "  </thead>\n",
       "  <tbody>\n",
       "    <tr>\n",
       "      <th>0</th>\n",
       "      <td>34.175720</td>\n",
       "      <td>0.0</td>\n",
       "      <td>False</td>\n",
       "      <td>False</td>\n",
       "      <td>False</td>\n",
       "      <td>True</td>\n",
       "      <td>False</td>\n",
       "      <td>False</td>\n",
       "      <td>True</td>\n",
       "      <td>False</td>\n",
       "      <td>False</td>\n",
       "      <td>True</td>\n",
       "    </tr>\n",
       "    <tr>\n",
       "      <th>1</th>\n",
       "      <td>51.767621</td>\n",
       "      <td>0.0</td>\n",
       "      <td>False</td>\n",
       "      <td>False</td>\n",
       "      <td>False</td>\n",
       "      <td>True</td>\n",
       "      <td>False</td>\n",
       "      <td>False</td>\n",
       "      <td>False</td>\n",
       "      <td>True</td>\n",
       "      <td>True</td>\n",
       "      <td>False</td>\n",
       "    </tr>\n",
       "    <tr>\n",
       "      <th>2</th>\n",
       "      <td>52.317309</td>\n",
       "      <td>0.0</td>\n",
       "      <td>False</td>\n",
       "      <td>False</td>\n",
       "      <td>False</td>\n",
       "      <td>True</td>\n",
       "      <td>False</td>\n",
       "      <td>False</td>\n",
       "      <td>False</td>\n",
       "      <td>True</td>\n",
       "      <td>False</td>\n",
       "      <td>True</td>\n",
       "    </tr>\n",
       "    <tr>\n",
       "      <th>3</th>\n",
       "      <td>69.669170</td>\n",
       "      <td>0.0</td>\n",
       "      <td>False</td>\n",
       "      <td>False</td>\n",
       "      <td>False</td>\n",
       "      <td>True</td>\n",
       "      <td>False</td>\n",
       "      <td>False</td>\n",
       "      <td>False</td>\n",
       "      <td>True</td>\n",
       "      <td>False</td>\n",
       "      <td>True</td>\n",
       "    </tr>\n",
       "    <tr>\n",
       "      <th>4</th>\n",
       "      <td>42.681427</td>\n",
       "      <td>0.0</td>\n",
       "      <td>False</td>\n",
       "      <td>False</td>\n",
       "      <td>True</td>\n",
       "      <td>False</td>\n",
       "      <td>False</td>\n",
       "      <td>False</td>\n",
       "      <td>False</td>\n",
       "      <td>True</td>\n",
       "      <td>True</td>\n",
       "      <td>False</td>\n",
       "    </tr>\n",
       "  </tbody>\n",
       "</table>\n",
       "</div>"
      ],
      "text/plain": [
       "       monto  clase  ubicacion_Canadá  ubicacion_China  ubicacion_EEUU  \\\n",
       "0  34.175720    0.0             False            False           False   \n",
       "1  51.767621    0.0             False            False           False   \n",
       "2  52.317309    0.0             False            False           False   \n",
       "3  69.669170    0.0             False            False           False   \n",
       "4  42.681427    0.0             False            False            True   \n",
       "\n",
       "   ubicacion_México  ubicacion_Nigeria  ubicacion_Rusia  horario_día  \\\n",
       "0              True              False            False         True   \n",
       "1              True              False            False        False   \n",
       "2              True              False            False        False   \n",
       "3              True              False            False        False   \n",
       "4             False              False            False        False   \n",
       "\n",
       "   horario_noche  tipo_compra  tipo_retiro  \n",
       "0          False        False         True  \n",
       "1           True         True        False  \n",
       "2           True        False         True  \n",
       "3           True        False         True  \n",
       "4           True         True        False  "
      ]
     },
     "execution_count": 4,
     "metadata": {},
     "output_type": "execute_result"
    }
   ],
   "source": [
    "\n",
    "# Codificar las variables categóricas usando la técnica de codificación one-hot\n",
    "datos_codificados = pd.get_dummies(datos, columns=['ubicacion', 'horario', 'tipo'])\n",
    "datos_codificados.head()\n",
    "    "
   ]
  },
  {
   "cell_type": "markdown",
   "id": "fb37ac36",
   "metadata": {},
   "source": [
    "### Implementación de Regresión Logística"
   ]
  },
  {
   "cell_type": "markdown",
   "id": "c42f7930",
   "metadata": {},
   "source": [
    "Para este ejemplo de detección de fraudes, una técnica de modelado que podríamos utilizar es la regresión logística. La regresión logística es una técnica de clasificación que se utiliza para predecir la probabilidad de que una observación pertenezca a una clase determinada, en nuestro caso, si una transacción es fraudulenta o no.\n",
    "\n",
    "En Python, podemos utilizar la librería scikit-learn para implementar un modelo de regresión logística. Primero, tendríamos que dividir nuestros datos en un conjunto de entrenamiento y un conjunto de prueba, utilizando la función train_test_split de la libreria scikit-learn.\n",
    "\n",
    "Luego, podríamos entrenar el modelo utilizando los datos de entrenamiento y ajustar los parámetros utilizando la función fit. Finalmente, podemos utilizar el modelo para predecir si las transacciones en el conjunto de prueba son fraudulentas o no."
   ]
  },
  {
   "cell_type": "code",
   "execution_count": 5,
   "id": "342c5751",
   "metadata": {},
   "outputs": [],
   "source": [
    "\n",
    "from sklearn.model_selection import train_test_split\n",
    "from sklearn.linear_model import LogisticRegression\n",
    "from sklearn.metrics import confusion_matrix, classification_report\n",
    "\n",
    "# Separar los datos en conjuntos de entrenamiento y prueba\n",
    "X = datos_codificados.drop('clase', axis=1)\n",
    "y = datos_codificados['clase']\n",
    "X_train, X_test, y_train, y_test = train_test_split(X, y, test_size=0.2, random_state=42)\n",
    "\n",
    "# Ajustar un modelo de regresión logística\n",
    "lr_model = LogisticRegression(random_state=42, max_iter=1000)\n",
    "lr_model.fit(X_train, y_train)\n",
    "\n",
    "# Realizar predicciones en el conjunto de prueba\n",
    "y_pred = lr_model.predict(X_test)"
   ]
  },
  {
   "cell_type": "markdown",
   "id": "f4e61480",
   "metadata": {},
   "source": [
    "En este ejemplo, X representa nuestras variables predictoras o regresores o features, como el monto de la transacción, el tipo de transacción, horario y lugar, mientras que y representa nuestra variable de respuesta, es decir, si la transacción es fraudulenta o no. Luego, utilizamos \n",
    "\n",
    "la función `train_test_split` para dividir los datos en conjuntos de entrenamiento y prueba en una proporción del 80% y 20%, respectivamente. A continuación, creamos un objeto de modelo de regresión logística y lo ajustamos a los datos de entrenamiento utilizando la función `fit`. Finalmente, utilizamos el modelo para predecir si las transacciones en el conjunto de prueba son fraudulentas o no, utilizando la función `predict`.\n",
    "\n",
    "Podemos ver las predicciones que hemos realizado en el siguiente array, donde 1 serían las transacciones que predecimos como sospechosas y cero las que no."
   ]
  },
  {
   "cell_type": "code",
   "execution_count": 6,
   "id": "d3bb80a0",
   "metadata": {},
   "outputs": [
    {
     "data": {
      "text/plain": [
       "array([0., 0., 0., ..., 0., 0., 1.])"
      ]
     },
     "execution_count": 6,
     "metadata": {},
     "output_type": "execute_result"
    }
   ],
   "source": [
    "y_pred"
   ]
  },
  {
   "cell_type": "markdown",
   "id": "ca302514",
   "metadata": {},
   "source": [
    "Para evaluar el modelo, podemos usar la matriz de confusión:\n",
    "\n",
    "Para hacer la matriz de confusión, primero necesitamos hacer predicciones en nuestro conjunto de datos de prueba. Luego, comparamos estas predicciones con las verdaderas etiquetas de clase para construir la matriz de confusión.\n",
    "\n",
    "| Actual               | Predicción Positiva    | Predicción Negativa    |\n",
    "|----------------------|------------------------|-------------------------|\n",
    "| Valor real es positivo | Verdadero positivo (TP) | Falso negativo (FN)    |\n",
    "| Valor real es negativo | Falso positivo (FP)     | Verdadero negativo (TN) |\n",
    "\n",
    "Donde:\n",
    "\n",
    "- TP: Verdaderos positivos (True Positives)\n",
    "- FN: Falsos negativos (False Negatives)\n",
    "- FP: Falsos positivos (False Positives)\n",
    "- TN: Verdaderos negativos (True Negatives)\n",
    "\n",
    "La matriz de confusión nos ayuda a evaluar el rendimiento del modelo. En ella encontramos los siguientes valores:\n",
    "\n",
    "- **True Positives (TP)**: Transacciones fraudulentas correctamente identificadas como tales.\n",
    "- **False Positives (FP)**: Transacciones normales clasificadas incorrectamente como fraudulentas.\n",
    "- **True Negatives (TN)**: Transacciones normales correctamente identificadas.\n",
    "- **False Negatives (FN)**: Transacciones fraudulentas clasificadas incorrectamente como normales.\n",
    "\n",
    "Usando la matriz de confusión y el reporte de clasificación, podemos calcular:\n",
    "\n",
    "- **Precisión**: Proporción de transacciones clasificadas correctamente como fraudulentas.\n",
    "- **Sensibilidad**: Proporción de transacciones fraudulentas correctamente identificadas.\n",
    "- **F1-score**: Métrica combinada que balancea precisión y sensibilidad.\n",
    "\n",
    "\n",
    "\n",
    "Suponiendo que tenemos nuestras predicciones y las etiquetas de clase verdaderas almacenadas en dos vectores `y_pred` e `y_test`, respectivamente, podemos construir la matriz de confusión en Python de la siguiente manera:"
   ]
  },
  {
   "cell_type": "code",
   "execution_count": 7,
   "id": "d84cabf3",
   "metadata": {},
   "outputs": [
    {
     "name": "stdout",
     "output_type": "stream",
     "text": [
      "Matriz de confusión:\n",
      " [[2007    0]\n",
      " [   3   90]]\n"
     ]
    }
   ],
   "source": [
    "\n",
    "# Evaluar el desempeño del modelo en el conjunto de prueba\n",
    "print(\"Matriz de confusión:\\n\", confusion_matrix(y_test, y_pred))\n",
    "    "
   ]
  },
  {
   "cell_type": "markdown",
   "id": "6581a0cc",
   "metadata": {},
   "source": [
    "De los resultados obtenidos, tenemos:\n",
    "\n",
    "- **Falsos positivos (FP)**: 0 transacciones normales que fueron clasificadas incorrectamente como fraudulentas por el modelo.\n",
    "- **Falsos negativos (FN)**: 3 transacciones fraudulentas que fueron clasificadas incorrectamente como normales por el modelo.\n",
    "- **Verdaderos negativos (TN)**: 2007 transacciones normales que fueron correctamente identificadas como tales por el modelo.\n",
    "\n",
    "La matriz de confusión se calcula comparando las predicciones del modelo con las etiquetas reales correspondientes a un conjunto de datos. Para evaluar el rendimiento del modelo en datos nuevos, es importante calcular la matriz de confusión utilizando el conjunto de prueba, ya que este conjunto representa datos que el modelo no ha visto durante el entrenamiento y, por lo tanto, proporciona una evaluación más precisa del rendimiento del modelo en situaciones inéditas.\n",
    "\n",
    "### Métricas de evaluación\n",
    "\n",
    "A partir de estos valores, se pueden calcular varias métricas para evaluar la calidad del modelo. Por ejemplo:\n",
    "\n",
    "- **Precisión**: La precisión mide la proporción de transacciones que fueron correctamente clasificadas como fraudulentas en relación al total de transacciones clasificadas como fraudulentas. En este caso, la precisión sería del 100%, ya que no hubo falsos positivos.\n",
    "\n",
    "- **Sensibilidad**: La sensibilidad mide la proporción de transacciones fraudulentas que fueron correctamente identificadas por el modelo en relación al total de transacciones fraudulentas. En este caso, la sensibilidad sería del 97.8%, ya que solo 3 de las 93 transacciones fraudulentas fueron clasificadas como no fraudulentas.\n",
    "\n",
    "Podemos ver estos reflejados en el **reporte de clasificación**\n"
   ]
  },
  {
   "cell_type": "code",
   "execution_count": 8,
   "id": "87166e2f",
   "metadata": {},
   "outputs": [
    {
     "name": "stdout",
     "output_type": "stream",
     "text": [
      "Reporte de clasificación\n",
      ":               precision    recall  f1-score   support\n",
      "\n",
      "         0.0       1.00      1.00      1.00      2007\n",
      "         1.0       1.00      0.97      0.98        93\n",
      "\n",
      "    accuracy                           1.00      2100\n",
      "   macro avg       1.00      0.98      0.99      2100\n",
      "weighted avg       1.00      1.00      1.00      2100\n",
      "\n"
     ]
    }
   ],
   "source": [
    "print(\"Reporte de clasificación\\n:\", classification_report(y_test, y_pred))\n"
   ]
  },
  {
   "cell_type": "markdown",
   "id": "6eb45cf6",
   "metadata": {},
   "source": [
    "En general, esta **matriz de confusión** sugiere que el modelo de **regresión logística** tiene un buen desempeño en la detección de fraudes, ya que logró identificar correctamente la gran mayoría de las transacciones fraudulentas (90 de 93), y no clasificó incorrectamente ninguna transacción normal como fraude (0 falsos positivos).\n",
    "\n",
    "- **Sensibilidad** del modelo (calculada como TP / (TP + FN)): 97%\n",
    "- **Precisión** del modelo (calculada como TP / (TP + FP)): 100%\n",
    "\n",
    "Este alto nivel de precisión y sensibilidad podría indicar que el modelo está sobreajustando los datos, dado que no identificó ninguna transacción normal como fraude. Esto sugiere que el modelo podría estar siendo demasiado **conservador** en sus clasificaciones, evitando clasificar transacciones normales como fraudulentas.\n",
    "\n",
    "En cualquier caso, sería necesario realizar un análisis más detallado para determinar la **calidad general** del modelo y su capacidad para **generalizar a datos nuevos**. Este análisis adicional ayudaría a confirmar si el modelo puede mantener su rendimiento en distintos conjuntos de datos o si es necesario ajustar su complejidad para evitar el sobreajuste.\n"
   ]
  },
  {
   "cell_type": "markdown",
   "id": "9373e639",
   "metadata": {},
   "source": [
    "### Predicción con nuevos datos\n",
    "\n",
    "El uso más comun es, una vez entrenado el modelo podríamos clasificar nuevos datos para los cuales no tenemos etiquetas, es decir, no sabemos si son fraudulentos o no.\n",
    "\n",
    "Por ejemplo, si simulamos nuevos datos:"
   ]
  },
  {
   "cell_type": "code",
   "execution_count": 9,
   "id": "8e6fa79d",
   "metadata": {},
   "outputs": [],
   "source": [
    "\n",
    "# Definir nuevos datos simulados\n",
    "nuevos_datos = pd.DataFrame({\n",
    "    'monto': [80, 30, 120, 60, 60, 100],\n",
    "    'ubicacion': ['EEUU', 'Canadá', 'Rusia', 'México', 'China', 'Nigeria'],\n",
    "    'horario': ['día', 'noche', 'noche', 'día', 'noche', 'noche'],\n",
    "    'tipo': ['compra', 'retiro', 'compra', 'retiro', 'retiro', 'retiro']\n",
    "})\n"
   ]
  },
  {
   "cell_type": "markdown",
   "id": "f7d5b03b",
   "metadata": {},
   "source": [
    "Los volvemos a preprocesar como antes, en nuestro caso solo cambiando las variables categoricas a dicotómicas y hacemos predicciones con el modelo ya entrenado y guardado:"
   ]
  },
  {
   "cell_type": "code",
   "execution_count": 10,
   "id": "c92d3161",
   "metadata": {},
   "outputs": [
    {
     "name": "stdout",
     "output_type": "stream",
     "text": [
      "Predicciones: [0. 0. 1. 0. 1. 1.]\n"
     ]
    }
   ],
   "source": [
    "# Preprocesar los nuevos datos\n",
    "nuevos_datos_procesados = pd.get_dummies(nuevos_datos, columns=['ubicacion', 'horario', 'tipo'])\n",
    "\n",
    "# Hacer predicciones sobre los nuevos datos\n",
    "predicciones = lr_model.predict(nuevos_datos_procesados)\n",
    "\n",
    "# Imprimir las predicciones\n",
    "print(\"Predicciones:\", predicciones)\n",
    "    "
   ]
  },
  {
   "cell_type": "markdown",
   "id": "9e34bb4f",
   "metadata": {},
   "source": [
    "Podemos ver que nuestro modelo predice que las transacciones 3, 5 y 6 serían fraudulentas."
   ]
  },
  {
   "cell_type": "markdown",
   "id": "8bb26c46",
   "metadata": {},
   "source": [
    "### Árbol de decisión"
   ]
  },
  {
   "cell_type": "markdown",
   "id": "99b2ce21",
   "metadata": {},
   "source": [
    "Para crear un árbol de decisión en Python, podemos utilizar la biblioteca scikit-learn. Aquí hay un ejemplo de cómo se podría crear un árbol de decisión para el mismo problema de detección de fraudes:"
   ]
  },
  {
   "cell_type": "code",
   "execution_count": 11,
   "id": "1a4a50bc",
   "metadata": {},
   "outputs": [
    {
     "name": "stdout",
     "output_type": "stream",
     "text": [
      "[[3015    0]\n",
      " [   0  135]]\n",
      "              precision    recall  f1-score   support\n",
      "\n",
      "         0.0       1.00      1.00      1.00      3015\n",
      "         1.0       1.00      1.00      1.00       135\n",
      "\n",
      "    accuracy                           1.00      3150\n",
      "   macro avg       1.00      1.00      1.00      3150\n",
      "weighted avg       1.00      1.00      1.00      3150\n",
      "\n"
     ]
    }
   ],
   "source": [
    "\n",
    "from sklearn.tree import DecisionTreeClassifier\n",
    "\n",
    "# Dividir los datos en conjuntos de entrenamiento y prueba\n",
    "X_train, X_test, y_train, y_test = train_test_split(X, y, test_size=0.3, random_state=42)\n",
    "\n",
    "# Crear modelo de árbol de decisión\n",
    "clf = DecisionTreeClassifier()\n",
    "\n",
    "# Entrenar el modelo en el conjunto de entrenamiento\n",
    "clf.fit(X_train, y_train)\n",
    "\n",
    "# Hacer predicciones en el conjunto de prueba\n",
    "y_pred = clf.predict(X_test)\n",
    "\n",
    "# Imprimir la matriz de confusión\n",
    "print(confusion_matrix(y_test, y_pred))\n",
    "\n",
    "# Imprimir el informe de clasificación\n",
    "print(classification_report(y_test, y_pred))\n",
    "    "
   ]
  },
  {
   "cell_type": "markdown",
   "id": "31698cd0",
   "metadata": {},
   "source": [
    "Aquí, utilizamos DecisionTreeClassifier para crear un modelo de árbol de decisión, lo entrenamos en el conjunto de entrenamiento y hacemos predicciones en el conjunto de prueba. Luego, imprimimos la matriz de confusión y el informe de clasificación para evaluar el\n",
    "rendimiento del modelo."
   ]
  },
  {
   "cell_type": "markdown",
   "id": "e926c377",
   "metadata": {},
   "source": [
    "### Clustering"
   ]
  },
  {
   "cell_type": "markdown",
   "id": "4cdc8316",
   "metadata": {},
   "source": [
    "Utilizando técnicas de clustering, podemos agrupar transacciones en función de sus características observadas para identificar patrones similares que podrían indicar fraudes. En este caso, emplearemos el **algoritmo K-Means** para crear estos grupos o clusters. Ese es un modelo no superisado, entonces genralmente no sabes si efectivamente son o no de cierta clase / etiqueta las observaciones. En este caso, como son datos simulados y los tenemos compleos, podemos luego analizar si efectivamente los grupos que armamos contienen una mayor proporción de transacciones fraudulentas.\n",
    "\n",
    "### Implementación del Algoritmo K-Means\n",
    "\n",
    "Para implementar un algoritmo de clustering K-Means en el conjunto de datos generado previamente, seguiremos los siguientes pasos:\n",
    "\n",
    "1. **Seleccionar las características relevantes:** En este caso, las características relevantes para la detección de fraudes son el monto, ubicación, horario y tipo de transacción. Vamos a seleccionar estas características y eliminar cualquier otra que no sea relevante.\n",
    "\n",
    "2. **Preprocesar los datos:** Para utilizar el algoritmo K-Means, es necesario escalar las características a un rango común para que todas tengan el mismo peso en el análisis. Esto se puede lograr utilizando la función StandardScaler de la librería sklearn, que ajusta los datos para que cada característica tenga media 0 y desviación estándar 1.\n",
    "\n",
    "3. **Entrenar el modelo K-Means:** Utilizando la librería `sklearn`, entrenaremos el modelo K-Means en el conjunto de datos preprocesado. Estableceremos el número de clusters en 2, ya que queremos separar las transacciones fraudulentas de las normales.\n",
    "\n",
    "4. **Asignar una etiqueta a cada transacción:** Después de entrenar el modelo, utilizaremos la función predict de K-Means para asignar una etiqueta a cada transacción. Solo sabremos que son grupos diferentes, pero no que grupo es cual.\n",
    "\n",
    "5. **Evaluar la precisión del modelo:** Para evaluar la precisión del modelo, compararemos las etiquetas asignadas por K-Means con las etiquetas reales de las transacciones. Calcularemos la precisión utilizando la función `accuracy_score` de sklearn.\n"
   ]
  },
  {
   "cell_type": "code",
   "execution_count": 12,
   "id": "606ba955",
   "metadata": {},
   "outputs": [
    {
     "name": "stdout",
     "output_type": "stream",
     "text": [
      "cluster  clase\n",
      "0        1.0       444\n",
      "         0.0        47\n",
      "1        0.0      9953\n",
      "         1.0        56\n",
      "Name: count, dtype: int64\n"
     ]
    },
    {
     "data": {
      "image/png": "[encoded data removed]",
      "text/plain": [
       "<Figure size 640x480 with 1 Axes>"
      ]
     },
     "metadata": {},
     "output_type": "display_data"
    }
   ],
   "source": [
    "\n",
    "from sklearn.cluster import KMeans\n",
    "import matplotlib.pyplot as plt\n",
    "\n",
    "# Reducir el conjunto de datos para hacer el clustering (sin la variable de clase)\n",
    "X_clustering = datos_codificados.drop('clase', axis=1)\n",
    "\n",
    "# Definir el modelo de K-Means con un número arbitrario de clusters\n",
    "kmeans = KMeans(n_clusters=2, random_state=42)\n",
    "kmeans.fit(X_clustering)\n",
    "\n",
    "# Agregar los clusters a los datos originales\n",
    "datos['cluster'] = kmeans.labels_\n",
    "\n",
    "# Visualizar la distribución de clases en cada cluster\n",
    "print(datos.groupby('cluster')['clase'].value_counts())\n",
    "\n",
    "# Visualización de los clusters (utilizando solo dos dimensiones para simplicidad)\n",
    "plt.scatter(datos['monto'], datos['cluster'], c=datos['clase'])\n",
    "plt.xlabel('Monto de la transacción')\n",
    "plt.ylabel('Cluster asignado')\n",
    "plt.title('Distribución de clusters')\n",
    "plt.show()\n",
    "    "
   ]
  },
  {
   "cell_type": "markdown",
   "id": "074fe8c5",
   "metadata": {},
   "source": [
    "Este código ajusta KMeans con 2 clusters y predice los clusters para los datos de entrenamiento. Luego, grafica los puntos en un scatter plot, con los puntos coloreados según el cluster al que pertenecen. El eje X representa el monto de la transacción y el eje Y representa si la transacción es fraudulenta o no (0 para transacciones normales, 1 para transacciones fraudulentas)."
   ]
  },
  {
   "cell_type": "markdown",
   "id": "650b532a",
   "metadata": {},
   "source": []
  },
  {
   "cell_type": "code",
   "execution_count": 13,
   "id": "476ab0f5",
   "metadata": {},
   "outputs": [
    {
     "name": "stdout",
     "output_type": "stream",
     "text": [
      "Precisión del modelo K-Means: 0.57\n"
     ]
    }
   ],
   "source": [
    "from sklearn.cluster import KMeans\n",
    "from sklearn.preprocessing import StandardScaler\n",
    "from sklearn.metrics import accuracy_score\n",
    "import numpy as np\n",
    "\n",
    "# 1. Seleccionar características relevantes\n",
    "X_clustering = datos_codificados.drop('clase', axis=1)  # 'clase' es la columna de etiquetas reales\n",
    "\n",
    "# 2. Preprocesar los datos (escalar características)\n",
    "scaler = StandardScaler()\n",
    "X_scaled = scaler.fit_transform(X_clustering)\n",
    "\n",
    "# 3. Entrenar el modelo K-Means con 2 clusters\n",
    "kmeans = KMeans(n_clusters=2, random_state=42)\n",
    "kmeans.fit(X_scaled)\n",
    "\n",
    "# 4. Asignar una etiqueta a cada transacción\n",
    "labels = kmeans.predict(X_scaled)\n",
    "datos['cluster'] = labels  # Guardar las etiquetas generadas por K-Means en el conjunto de datos\n",
    "\n",
    "# 5. Evaluar la precisión del modelo\n",
    "# Como no sabemos cuál cluster es cuál, necesitamos ajustar las etiquetas si es necesario\n",
    "# Calculamos la precisión para ambas posibles asignaciones de cluster\n",
    "accuracy_option_1 = accuracy_score(datos['clase'], labels)  # Asignación original\n",
    "accuracy_option_2 = accuracy_score(datos['clase'], np.abs(labels - 1))  # Invertimos los clusters\n",
    "\n",
    "# Seleccionamos la mejor precisión de las dos opciones\n",
    "accuracy = max(accuracy_option_1, accuracy_option_2)\n",
    "print(f\"Precisión del modelo K-Means: {accuracy:.2f}\")\n"
   ]
  },
  {
   "cell_type": "markdown",
   "id": "00b992fc",
   "metadata": {},
   "source": [
    "Utilizando técnicas de **clustering**, podemos agrupar transacciones en función de sus características observadas para identificar patrones similares que podrían indicar fraudes. En este caso, emplearemos el **algoritmo K-Means** para crear estos grupos o clusters. Dado que K-Means es un modelo **no supervisado**, generalmente no sabemos si los grupos formados corresponden a ciertas clases específicas. Sin embargo, como en este caso tenemos datos simulados y conocemos las etiquetas reales, podemos analizar si los clusters contienen una mayor proporción de transacciones fraudulentas.\n",
    "\n",
    "### Implementación del Algoritmo K-Means\n",
    "\n",
    "Para implementar un algoritmo de clustering K-Means en el conjunto de datos generado previamente, seguiremos los siguientes pasos:\n",
    "\n",
    "1. **Seleccionar las características relevantes:** En este caso, las características relevantes para la detección de fraudes son el **monto**, **ubicación**, **horario** y **tipo de transacción**. Vamos a seleccionar estas características y eliminar cualquier otra que no sea relevante.\n",
    "\n",
    "2. **Preprocesar los datos:** Para utilizar el algoritmo K-Means, es necesario escalar las características a un rango común para que todas tengan el mismo peso en el análisis. Esto se puede lograr utilizando la función `StandardScaler` de la librería `sklearn`, que ajusta los datos para que cada característica tenga media 0 y desviación estándar 1.\n",
    "\n",
    "3. **Entrenar el modelo K-Means:** Utilizando la librería `sklearn`, entrenaremos el modelo K-Means en el conjunto de datos preprocesado. Estableceremos el número de clusters en 2, ya que queremos separar las transacciones en dos grupos.\n",
    "\n",
    "4. **Asignar una etiqueta a cada transacción:** Después de entrenar el modelo, utilizaremos la función `predict` de K-Means para asignar una etiqueta a cada transacción. En este caso, solo sabemos que son grupos diferentes, pero no cuál grupo corresponde a las transacciones fraudulentas.\n",
    "\n",
    "5. **Evaluar la precisión del modelo:** Para evaluar la precisión del modelo, compararemos las etiquetas asignadas por K-Means con las etiquetas reales de las transacciones. Calcularemos la precisión utilizando la función `accuracy_score` de `sklearn`.\n",
    "\n"
   ]
  },
  {
   "cell_type": "code",
   "execution_count": 14,
   "id": "39932745",
   "metadata": {},
   "outputs": [
    {
     "name": "stdout",
     "output_type": "stream",
     "text": [
      "Cluster 0: Transacciones normales, Cluster 1: Transacciones fraudulentas\n",
      "Precisión del modelo K-Means: 0.57\n"
     ]
    }
   ],
   "source": [
    "### Código de Ejemplo en Python\n",
    "\n",
    "from sklearn.cluster import KMeans\n",
    "from sklearn.preprocessing import StandardScaler\n",
    "from sklearn.metrics import accuracy_score\n",
    "import numpy as np\n",
    "\n",
    "# 1. Seleccionar características relevantes\n",
    "X_clustering = datos_codificados.drop('clase', axis=1)  # 'clase' es la columna de etiquetas reales\n",
    "\n",
    "# 2. Preprocesar los datos (escalar características)\n",
    "scaler = StandardScaler()\n",
    "X_scaled = scaler.fit_transform(X_clustering)\n",
    "\n",
    "# 3. Entrenar el modelo K-Means con 2 clusters\n",
    "kmeans = KMeans(n_clusters=2, random_state=42)\n",
    "kmeans.fit(X_scaled)\n",
    "\n",
    "# 4. Asignar una etiqueta a cada transacción\n",
    "labels = kmeans.predict(X_scaled)\n",
    "datos['cluster'] = labels  # Guardar las etiquetas generadas por K-Means en el conjunto de datos\n",
    "\n",
    "# 5. Evaluar la precisión del modelo\n",
    "# Como no sabemos cuál cluster es cuál, necesitamos ajustar las etiquetas si es necesario\n",
    "# Calculamos la precisión para ambas posibles asignaciones de cluster\n",
    "accuracy_option_1 = accuracy_score(datos['clase'], labels)  # Asignación original\n",
    "accuracy_option_2 = accuracy_score(datos['clase'], np.abs(labels - 1))  # Invertimos los clusters\n",
    "\n",
    "# Determinar cuál opción tiene mayor precisión y asignar los clusters acorde\n",
    "if accuracy_option_1 > accuracy_option_2:\n",
    "    accuracy = accuracy_option_1\n",
    "    datos['predicted_class'] = labels  # Cluster 0 corresponde a la clase 0, cluster 1 a la clase 1\n",
    "    print(\"Cluster 0: Transacciones normales, Cluster 1: Transacciones fraudulentas\")\n",
    "else:\n",
    "    accuracy = accuracy_option_2\n",
    "    datos['predicted_class'] = np.abs(labels - 1)  # Invertimos los clusters para que coincidan con las clases\n",
    "    print(\"Cluster 1: Transacciones normales, Cluster 0: Transacciones fraudulentas\")\n",
    "\n",
    "print(f\"Precisión del modelo K-Means: {accuracy:.2f}\")"
   ]
  },
  {
   "cell_type": "code",
   "execution_count": 15,
   "id": "c8cc2e7c",
   "metadata": {},
   "outputs": [
    {
     "data": {
      "text/html": [
       "<div>\n",
       "<style scoped>\n",
       "    .dataframe tbody tr th:only-of-type {\n",
       "        vertical-align: middle;\n",
       "    }\n",
       "\n",
       "    .dataframe tbody tr th {\n",
       "        vertical-align: top;\n",
       "    }\n",
       "\n",
       "    .dataframe thead th {\n",
       "        text-align: right;\n",
       "    }\n",
       "</style>\n",
       "<table border=\"1\" class=\"dataframe\">\n",
       "  <thead>\n",
       "    <tr style=\"text-align: right;\">\n",
       "      <th></th>\n",
       "      <th>monto</th>\n",
       "      <th>ubicacion</th>\n",
       "      <th>horario</th>\n",
       "      <th>tipo</th>\n",
       "      <th>clase</th>\n",
       "      <th>cluster</th>\n",
       "      <th>predicted_class</th>\n",
       "    </tr>\n",
       "  </thead>\n",
       "  <tbody>\n",
       "    <tr>\n",
       "      <th>0</th>\n",
       "      <td>34.175720</td>\n",
       "      <td>México</td>\n",
       "      <td>día</td>\n",
       "      <td>retiro</td>\n",
       "      <td>0.0</td>\n",
       "      <td>0</td>\n",
       "      <td>0</td>\n",
       "    </tr>\n",
       "    <tr>\n",
       "      <th>1</th>\n",
       "      <td>51.767621</td>\n",
       "      <td>México</td>\n",
       "      <td>noche</td>\n",
       "      <td>compra</td>\n",
       "      <td>0.0</td>\n",
       "      <td>0</td>\n",
       "      <td>0</td>\n",
       "    </tr>\n",
       "    <tr>\n",
       "      <th>2</th>\n",
       "      <td>52.317309</td>\n",
       "      <td>México</td>\n",
       "      <td>noche</td>\n",
       "      <td>retiro</td>\n",
       "      <td>0.0</td>\n",
       "      <td>1</td>\n",
       "      <td>1</td>\n",
       "    </tr>\n",
       "    <tr>\n",
       "      <th>3</th>\n",
       "      <td>69.669170</td>\n",
       "      <td>México</td>\n",
       "      <td>noche</td>\n",
       "      <td>retiro</td>\n",
       "      <td>0.0</td>\n",
       "      <td>1</td>\n",
       "      <td>1</td>\n",
       "    </tr>\n",
       "    <tr>\n",
       "      <th>4</th>\n",
       "      <td>42.681427</td>\n",
       "      <td>EEUU</td>\n",
       "      <td>noche</td>\n",
       "      <td>compra</td>\n",
       "      <td>0.0</td>\n",
       "      <td>0</td>\n",
       "      <td>0</td>\n",
       "    </tr>\n",
       "    <tr>\n",
       "      <th>...</th>\n",
       "      <td>...</td>\n",
       "      <td>...</td>\n",
       "      <td>...</td>\n",
       "      <td>...</td>\n",
       "      <td>...</td>\n",
       "      <td>...</td>\n",
       "      <td>...</td>\n",
       "    </tr>\n",
       "    <tr>\n",
       "      <th>10495</th>\n",
       "      <td>44.259174</td>\n",
       "      <td>México</td>\n",
       "      <td>día</td>\n",
       "      <td>compra</td>\n",
       "      <td>0.0</td>\n",
       "      <td>0</td>\n",
       "      <td>0</td>\n",
       "    </tr>\n",
       "    <tr>\n",
       "      <th>10496</th>\n",
       "      <td>49.587073</td>\n",
       "      <td>EEUU</td>\n",
       "      <td>día</td>\n",
       "      <td>compra</td>\n",
       "      <td>0.0</td>\n",
       "      <td>0</td>\n",
       "      <td>0</td>\n",
       "    </tr>\n",
       "    <tr>\n",
       "      <th>10497</th>\n",
       "      <td>43.005855</td>\n",
       "      <td>Canadá</td>\n",
       "      <td>noche</td>\n",
       "      <td>compra</td>\n",
       "      <td>0.0</td>\n",
       "      <td>1</td>\n",
       "      <td>1</td>\n",
       "    </tr>\n",
       "    <tr>\n",
       "      <th>10498</th>\n",
       "      <td>52.029230</td>\n",
       "      <td>México</td>\n",
       "      <td>día</td>\n",
       "      <td>compra</td>\n",
       "      <td>0.0</td>\n",
       "      <td>0</td>\n",
       "      <td>0</td>\n",
       "    </tr>\n",
       "    <tr>\n",
       "      <th>10499</th>\n",
       "      <td>32.823279</td>\n",
       "      <td>México</td>\n",
       "      <td>día</td>\n",
       "      <td>compra</td>\n",
       "      <td>0.0</td>\n",
       "      <td>0</td>\n",
       "      <td>0</td>\n",
       "    </tr>\n",
       "  </tbody>\n",
       "</table>\n",
       "<p>10500 rows × 7 columns</p>\n",
       "</div>"
      ],
      "text/plain": [
       "           monto ubicacion horario    tipo  clase  cluster  predicted_class\n",
       "0      34.175720    México     día  retiro    0.0        0                0\n",
       "1      51.767621    México   noche  compra    0.0        0                0\n",
       "2      52.317309    México   noche  retiro    0.0        1                1\n",
       "3      69.669170    México   noche  retiro    0.0        1                1\n",
       "4      42.681427      EEUU   noche  compra    0.0        0                0\n",
       "...          ...       ...     ...     ...    ...      ...              ...\n",
       "10495  44.259174    México     día  compra    0.0        0                0\n",
       "10496  49.587073      EEUU     día  compra    0.0        0                0\n",
       "10497  43.005855    Canadá   noche  compra    0.0        1                1\n",
       "10498  52.029230    México     día  compra    0.0        0                0\n",
       "10499  32.823279    México     día  compra    0.0        0                0\n",
       "\n",
       "[10500 rows x 7 columns]"
      ]
     },
     "execution_count": 15,
     "metadata": {},
     "output_type": "execute_result"
    }
   ],
   "source": [
    "datos"
   ]
  },
  {
   "cell_type": "markdown",
   "id": "28ef20e9",
   "metadata": {},
   "source": [
    "**Interpretación de Resultados**\n",
    "\n",
    "La precisión obtenida indica qué tan bien K-Means ha agrupado las transacciones en categorías que coinciden con las etiquetas reales de fraude. Este análisis es útil como un primer paso para identificar patrones, aunque en general, los modelos supervisados son necesarios para una detección de fraudes más precisa.\n",
    "\n"
   ]
  },
  {
   "cell_type": "code",
   "execution_count": 16,
   "id": "96ce115e",
   "metadata": {},
   "outputs": [
    {
     "name": "stdout",
     "output_type": "stream",
     "text": [
      "\n",
      "Composición de cada cluster en términos de proporciones:\n",
      "         Proporción Normal  Proporción Fraude\n",
      "cluster                                      \n",
      "0                 0.941593           0.058407\n",
      "1                 0.968028           0.031972\n"
     ]
    }
   ],
   "source": [
    "# 6. Calcular la proporción de transacciones normales y fraudulentas en cada cluster\n",
    "cluster_composition = datos.groupby('cluster')['clase'].value_counts(normalize=True).unstack()\n",
    "cluster_composition.columns = ['Proporción Normal', 'Proporción Fraude']\n",
    "\n",
    "# Mostrar la composición de cada cluster\n",
    "print(\"\\nComposición de cada cluster en términos de proporciones:\")\n",
    "print(cluster_composition)"
   ]
  },
  {
   "cell_type": "markdown",
   "id": "5b8deac2",
   "metadata": {},
   "source": [
    "Este ejemplo muestra que el cluster 0 tiene una mayor proporción de fraudes, lo cual podría interpretarse como el grupo que contiene más transacciones fraudulentas, pero estan relativamente equilibrados. Estoes coherente con que el accuracy del modelo es relativamente bajo, 57%"
   ]
  },
  {
   "cell_type": "markdown",
   "id": "f6b55e37",
   "metadata": {},
   "source": [
    "#### Definiendo el número de clusters\n",
    "\n",
    "De todas maneras, aca a priori definimos 2 grupos. Al especificar dos grupos (clusters) en el modelo K-Means, estamos asumiendo que todas las transacciones se dividen en dos categorías claras (normales y fraudulentas). Sin embargo, en la práctica, podríamos observar una estructura más compleja en los datos de transacciones. Es posible que los fraudes no se limiten a una sola clase homogénea y que los patrones en los datos puedan formar más de dos grupos.\n",
    "\n",
    "**Exploración de Diferentes Cantidades de Clusters**\n",
    "\n",
    "Para investigar si más clusters mejoran el análisis, podríamos experimentar con diferentes valores de k y evaluar si los datos presentan agrupamientos adicionales que capturan otros patrones de comportamiento. Esto se hace comúnmente utilizando el método del codo (elbow method), que ayuda a identificar el número óptimo de clusters basándonos en la inercia o suma de distancias al cuadrado de los puntos a sus centroides. Este método nos permite observar cómo cambia la inercia a medida que aumentamos el número de clusters y elegir un valor de k en el que la inercia comienza a estabilizarse.\n",
    "\n",
    "**Código para el Método del Codo**\n",
    "\n",
    "A continuación, te muestro cómo aplicar el método del codo para decidir si aumentar el número de clusters podría ser beneficioso:"
   ]
  },
  {
   "cell_type": "code",
   "execution_count": 17,
   "id": "8e95062f",
   "metadata": {},
   "outputs": [
    {
     "data": {
      "image/png": "[encoded data removed]",
      "text/plain": [
       "<Figure size 640x480 with 1 Axes>"
      ]
     },
     "metadata": {},
     "output_type": "display_data"
    }
   ],
   "source": [
    "import matplotlib.pyplot as plt\n",
    "from sklearn.cluster import KMeans\n",
    "from sklearn.preprocessing import StandardScaler\n",
    "\n",
    "# Escalar los datos de características\n",
    "scaler = StandardScaler()\n",
    "X_scaled = scaler.fit_transform(X_clustering)\n",
    "\n",
    "# Lista para almacenar la inercia de cada valor de k\n",
    "inertias = []\n",
    "\n",
    "# Probar diferentes valores de k (por ejemplo, de 1 a 10)\n",
    "for k in range(1, 11):\n",
    "    kmeans = KMeans(n_clusters=k, random_state=42)\n",
    "    kmeans.fit(X_scaled)\n",
    "    inertias.append(kmeans.inertia_)\n",
    "\n",
    "# Graficar la inercia contra el número de clusters\n",
    "plt.plot(range(1, 11), inertias, marker='o')\n",
    "plt.xlabel('Número de clusters (k)')\n",
    "plt.ylabel('Inercia')\n",
    "plt.title('Método del codo para encontrar el número óptimo de clusters')\n",
    "plt.show()\n"
   ]
  },
  {
   "cell_type": "markdown",
   "id": "636b7839",
   "metadata": {},
   "source": [
    "**Implementación de K-Means con el Número Óptimo de Clusters**\n",
    "Si encontramos que el número óptimo de clusters es mayor que 2, podemos ajustar el valor de k en el modelo K-Means y repetir el análisis. En este caso, podríamos investigar si hay patrones adicionales, como diferentes tipos de fraudes o transacciones normales que no siguen el mismo comportamiento.\n",
    "\n",
    "Explorar más de dos clusters nos permite entender mejor la estructura de los datos y descubrir si existen múltiples tipos de patrones dentro de las transacciones fraudulentas y normales. Esta flexibilidad es especialmente útil en la detección de fraudes, donde los comportamientos fraudulentos pueden variar y no siempre siguen una sola categoría homogénea."
   ]
  },
  {
   "cell_type": "markdown",
   "id": "ad4720f4",
   "metadata": {},
   "source": [
    "**Paso a Paso para Análisis con 4 Clusters**\n",
    "\n",
    "En este caso, los clusters es lineal casi con la inercia, asi qú nuestros datos no parecen sugerir un numero óptimo a priori. Pero hagamos el caso con 4 clusters.\n",
    "\n",
    "1. Entrenar el modelo K-Means con 4 clusters.\n",
    "2. Asignar una etiqueta de cluster a cada transacción.\n",
    "3. Comparar la composición de cada cluster (fraudulentas vs. normales) para ver si alguno tiene una mayor proporción de transacciones fraudulentas."
   ]
  },
  {
   "cell_type": "code",
   "execution_count": 18,
   "id": "553840c6",
   "metadata": {},
   "outputs": [
    {
     "name": "stdout",
     "output_type": "stream",
     "text": [
      "           Proporción Normal  Proporción Fraude\n",
      "cluster_4                                      \n",
      "0                   0.980134           0.019866\n",
      "1                   0.959615           0.040385\n",
      "2                   0.965882           0.034118\n",
      "3                        NaN           1.000000\n"
     ]
    }
   ],
   "source": [
    "from sklearn.cluster import KMeans\n",
    "from sklearn.preprocessing import StandardScaler\n",
    "import pandas as pd\n",
    "\n",
    "# Escalar los datos de características relevantes\n",
    "scaler = StandardScaler()\n",
    "X_scaled = scaler.fit_transform(X_clustering)\n",
    "\n",
    "# Entrenar el modelo K-Means con 4 clusters\n",
    "kmeans = KMeans(n_clusters=4, random_state=42)\n",
    "kmeans.fit(X_scaled)\n",
    "\n",
    "# Asignar cada transacción a uno de los 4 clusters\n",
    "datos['cluster_4'] = kmeans.labels_\n",
    "\n",
    "# Ver la composición de cada cluster en términos de transacciones fraudulentas y normales\n",
    "cluster_composition = datos.groupby('cluster_4')['clase'].value_counts(normalize=True).unstack()\n",
    "cluster_composition.columns = ['Proporción Normal', 'Proporción Fraude']\n",
    "\n",
    "# Mostrar la composición de cada cluster\n",
    "print(cluster_composition)\n"
   ]
  },
  {
   "cell_type": "markdown",
   "id": "e80c383b",
   "metadata": {},
   "source": [
    "**Interpretación de Resultados**\n",
    "\n",
    "La tabla `cluster_composition` mostrará la proporción de transacciones normales y fraudulentas en cada uno de los 4 clusters. Al analizar los resultados:\n",
    "\n",
    "- Si un cluster tiene una proporción alta de fraudes (por ejemplo, 70% o más), podemos interpretarlo como un grupo que contiene principalmente transacciones fraudulentas.\n",
    "\n",
    "- Distribución de fraudes: Si los fraudes están repartidos en varios clusters, esto puede sugerir que existen varios patrones de fraude con características distintas.\n",
    "\n",
    "- En este caso todos los fraudulentos nos quedan en el cluster 3 (cuarto).  Este ejemplo muestra que no hay una receta única para este tipo de problemas."
   ]
  }
 ],
 "metadata": {
  "kernelspec": {
   "display_name": "Python 3",
   "language": "python",
   "name": "python3"
  },
  "language_info": {
   "codemirror_mode": {
    "name": "ipython",
    "version": 3
   },
   "file_extension": ".py",
   "mimetype": "text/x-python",
   "name": "python",
   "nbconvert_exporter": "python",
   "pygments_lexer": "ipython3",
   "version": "3.12.3"
  }
 },
 "nbformat": 4,
 "nbformat_minor": 5
}
